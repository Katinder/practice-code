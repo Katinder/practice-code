{
 "cells": [
  {
   "cell_type": "code",
   "execution_count": null,
   "metadata": {},
   "outputs": [],
   "source": [
    "# 7 feb\n",
    "# 451. Sort characters by frequency\n",
    "\n",
    "freq={}\n",
    "ans=\"\"\n",
    "tups=[]\n",
    "for letter in s:\n",
    "    if letter in freq:\n",
    "        freq[letter]+=1\n",
    "    else:\n",
    "        freq[letter]=1\n",
    "\n",
    "for item in freq:\n",
    "    tups.append((item,freq[item]))\n",
    "\n",
    "tups=sorted(tups,key=lambda x:x[1],reverse=True)\n",
    "\n",
    "for pair in tups:\n",
    "    ans+=pair[0]*pair[1]\n",
    "\n",
    "# return ans\n",
    "print(ans)"
   ]
  },
  {
   "cell_type": "code",
   "execution_count": 1,
   "metadata": {},
   "outputs": [
    {
     "name": "stdout",
     "output_type": "stream",
     "text": [
      "[['eat', 'tea', 'ate'], ['tan', 'nat'], ['bat']]\n"
     ]
    }
   ],
   "source": [
    "# 6 feb\n",
    "# 49. Group Anagrams\n",
    "\n",
    "strs=[\"eat\",\"tea\",\"tan\",\"ate\",\"nat\",\"bat\"]\n",
    "ans=[]\n",
    "id_dict={}\n",
    "\n",
    "for i in range(len(strs)):\n",
    "    word=\"\".join(sorted(strs[i]))\n",
    "\n",
    "    if word in id_dict:\n",
    "        l=id_dict[word]\n",
    "        id_dict[word]=l+[i]\n",
    "    \n",
    "    else:\n",
    "        id_dict[word]=[i]\n",
    "\n",
    "for key in id_dict:\n",
    "    l=[]\n",
    "    for idx in id_dict[key]:\n",
    "        l.append(strs[int(idx)])\n",
    "    ans.append(l)\n",
    "\n",
    "# return ans\n",
    "print(ans)"
   ]
  },
  {
   "cell_type": "code",
   "execution_count": null,
   "metadata": {},
   "outputs": [],
   "source": [
    "# 5 feb\n",
    "# easy level question"
   ]
  },
  {
   "cell_type": "code",
   "execution_count": 1,
   "metadata": {},
   "outputs": [
    {
     "name": "stdout",
     "output_type": "stream",
     "text": [
      "[1234, 2345, 3456, 4567, 5678, 6789, 12345]\n"
     ]
    }
   ],
   "source": [
    "# 2 Feb\n",
    "# 1291. Sequential digits\n",
    "low=1000\n",
    "high=13000\n",
    "      \n",
    "n1=str(low)\n",
    "ans=[]\n",
    "minlen=len(str(low))\n",
    "maxlen=len(str(high))\n",
    "\n",
    "start=int(n1[0])\n",
    "for l in range(minlen,maxlen+1):\n",
    "    while start<=9-l+1:\n",
    "        num=int(\"\".join([str(d) for d in range(start,start+l)]))\n",
    "        if num>=low and num<=high:\n",
    "            ans.append(num)\n",
    "        if num>high:\n",
    "            break\n",
    "        start=start+1\n",
    "    start=1\n",
    "\n",
    "print(ans)\n",
    "# return ans"
   ]
  },
  {
   "cell_type": "code",
   "execution_count": 1,
   "metadata": {},
   "outputs": [
    {
     "name": "stdout",
     "output_type": "stream",
     "text": [
      "3\n"
     ]
    }
   ],
   "source": [
    "# jan 24\n",
    "# 1143. Longest Common Subsequence\n",
    "\n",
    "text1 = \"abc\"\n",
    "text2 = \"abc\"\n",
    "\n",
    "dp=[[0]*(len(text1)+1) for _ in range(len(text2)+1)]\n",
    "# print(len(dp),len(dp[0]))\n",
    "for i in range(1,len(text2)+1):\n",
    "    for j in range(1,len(text1)+1):\n",
    "        if text2[i-1]==text1[j-1]:\n",
    "            dp[i][j]=dp[i-1][j-1]+1\n",
    "        else:\n",
    "            dp[i][j]=max(dp[i-1][j],dp[i][j-1])\n",
    "# print(dp)\n",
    "print(max(dp[-1]))"
   ]
  },
  {
   "cell_type": "code",
   "execution_count": null,
   "metadata": {},
   "outputs": [],
   "source": [
    "# jan 23\n",
    "# 1457. Pseudo-palindrome paths in a binary tree\n",
    "\n",
    "\n",
    "# Definition for a binary tree node.\n",
    "# class TreeNode:\n",
    "#     def __init__(self, val=0, left=None, right=None):\n",
    "#         self.val = val\n",
    "#         self.left = left\n",
    "#         self.right = right\n",
    "\n",
    "root=[2,3,1,3,1,null,1]\n",
    "\n",
    "class Solution:\n",
    "    def pseudoPalindromicPaths (self, root: Optional[TreeNode]) -> int:\n",
    "        currpathlist=[0]*10\n",
    "        num=[0]\n",
    "\n",
    "        def traverse(root,numberpaths):\n",
    "\n",
    "            if root:\n",
    "                # print(currpathlist)\n",
    "                \n",
    "                currpathlist[root.val]+=1\n",
    "\n",
    "                traverse(root.left,numberpaths)\n",
    "                traverse(root.right,numberpaths)\n",
    "\n",
    "                #if leaf node check the list for any leftover items\n",
    "                if (root.left==None) and (root.right==None):\n",
    "                    oddcount=0\n",
    "                    for i in currpathlist:\n",
    "                        if i%2:\n",
    "                            oddcount+=1\n",
    "                        if oddcount>1: break\n",
    "                    \n",
    "                    if oddcount>1: #not pal\n",
    "                        currpathlist[root.val]-=1\n",
    "                        return 0\n",
    "                    else: #pal\n",
    "                        numberpaths[0]+=1\n",
    "                        currpathlist[root.val]-=1\n",
    "                        return 1\n",
    "                \n",
    "                currpathlist[root.val]-=1\n",
    "\n",
    "        traverse(root,num)\n",
    "        return num[0]   "
   ]
  },
  {
   "cell_type": "code",
   "execution_count": 1,
   "metadata": {},
   "outputs": [
    {
     "name": "stdout",
     "output_type": "stream",
     "text": [
      "[3, 1]\n"
     ]
    }
   ],
   "source": [
    "# jan 22\n",
    "# 645. set mismatch\n",
    "nums=[3,2,3,4,6,5]\n",
    "\n",
    "bm={}\n",
    "a1=-1\n",
    "a2=-1\n",
    "\n",
    "for i in range(1,len(nums)+1):\n",
    "    bm[i]=0\n",
    "\n",
    "for i in range(len(nums)):\n",
    "    bm[nums[i]]+=1\n",
    "    if bm[nums[i]]==2:\n",
    "        a1=nums[i]\n",
    "        # print(a1)\n",
    "\n",
    "for i in bm:\n",
    "    if bm[i]==0:\n",
    "        a2=i\n",
    "        # print(a2)\n",
    "        break\n",
    "\n",
    "print([a1,a2])"
   ]
  },
  {
   "cell_type": "code",
   "execution_count": 1,
   "metadata": {},
   "outputs": [
    {
     "name": "stdout",
     "output_type": "stream",
     "text": [
      "12\n"
     ]
    }
   ],
   "source": [
    "# jan 21\n",
    "# 198. House robber\n",
    "nums=[2,7,9,3,1]\n",
    "\n",
    "dp=[0]*(len(nums)+1)\n",
    "\n",
    "for i in range(len(nums)):\n",
    "    dp[i]=max(dp[i-1],dp[i-2]+nums[i])\n",
    "\n",
    "print(max(dp))"
   ]
  },
  {
   "cell_type": "code",
   "execution_count": 1,
   "metadata": {},
   "outputs": [
    {
     "name": "stdout",
     "output_type": "stream",
     "text": [
      "13 [[2, 1, 3], [7, 6, 5], [13, 13, 14]]\n"
     ]
    }
   ],
   "source": [
    "# jan 19\n",
    "# minimum-falling-path-sum\n",
    "matrix=[[2,1,3],[6,5,4],[7,8,9]]\n",
    "dp=matrix\n",
    "\n",
    "for i in range(1,len(matrix)):\n",
    "    for j in range(len(matrix[0])):\n",
    "        # print(i,j)\n",
    "        if j==0:\n",
    "            dp[i][j]=matrix[i][j]+min(dp[i-1][j],dp[i-1][j+1])\n",
    "            # print(dp[i][j],matrix[i][j],min(dp[i-1][j-1],dp[i-1][j+1]))\n",
    "        elif j==len(matrix)-1:\n",
    "            dp[i][j]=matrix[i][j]+min(dp[i-1][j],dp[i-1][j-1])\n",
    "            # print(dp[i][j],matrix[i][j],min(dp[i-1][j],dp[i-1][j-1]))\n",
    "        else:\n",
    "            dp[i][j]=matrix[i][j]+min(dp[i-1][j],dp[i-1][j-1],dp[i-1][j+1])\n",
    "            # print(dp[i][j],matrix[i][j],min(dp[i-1][j],dp[i-1][j-1],dp[i-1][j+1]))\n",
    "\n",
    "print(min(dp[-1]),dp)"
   ]
  },
  {
   "cell_type": "code",
   "execution_count": 1,
   "metadata": {},
   "outputs": [
    {
     "name": "stdout",
     "output_type": "stream",
     "text": [
      "1134903170\n"
     ]
    }
   ],
   "source": [
    "# jan 18\n",
    "\n",
    "# climbing stairs: number of steps\n",
    "n=44\n",
    "dp=[-1]*(n+1)\n",
    "\n",
    "def helper(n):\n",
    "\n",
    "    if n<=0:\n",
    "        return 0\n",
    "\n",
    "    elif n==1:\n",
    "        return 1\n",
    "    \n",
    "    elif n==2:\n",
    "        return 2\n",
    "\n",
    "    elif dp[n]!=-1:\n",
    "        return dp[n]\n",
    "\n",
    "    else:\n",
    "        dp[n]=helper(n-1)+helper(n-2)\n",
    "        return dp[n]\n",
    "\n",
    "print(helper(n))"
   ]
  },
  {
   "cell_type": "code",
   "execution_count": null,
   "metadata": {},
   "outputs": [],
   "source": [
    "# jan 17\n",
    "\n",
    "# unique number of occurences\n",
    "d={}\n",
    "for i in arr:\n",
    "    if i in d:\n",
    "        d[i]+=1\n",
    "    else:\n",
    "        d[i]=1\n",
    "\n",
    "t=list(d.values())\n",
    "st=set(t)\n",
    "\n",
    "print(len(t)==len(st))"
   ]
  },
  {
   "cell_type": "code",
   "execution_count": null,
   "metadata": {},
   "outputs": [],
   "source": [
    "# jan 16\n",
    "\n",
    "#Insert Delete GetRandom O(1)\n",
    "\n",
    "# input\n",
    "# [\"RandomizedSet\", \"insert\", \"remove\", \"insert\", \"getRandom\", \"remove\", \"insert\", \"getRandom\"]\n",
    "# [[], [1], [2], [2], [], [1], [2], []]\n",
    "\n",
    "import random\n",
    "class RandomizedSet(object):\n",
    "\n",
    "    def __init__(self):\n",
    "        self.dictt={}\n",
    "\n",
    "    def insert(self, val):\n",
    "        \"\"\"\n",
    "        :type val: int\n",
    "        :rtype: bool\n",
    "        \"\"\"\n",
    "        #hash\n",
    "        if val in list(self.dictt.keys()):\n",
    "            # print(\"already present :\",val)\n",
    "            return False\n",
    "        \n",
    "        else:\n",
    "            self.dictt[val]=val\n",
    "            # print(\"inserted :\",val)\n",
    "            return True\n",
    "        \n",
    "\n",
    "    def remove(self, val):\n",
    "        \"\"\"\n",
    "        :type val: int\n",
    "        :rtype: bool\n",
    "        \"\"\"\n",
    "        if val in list(self.dictt.keys()):\n",
    "            # print(\"presneted and deleted :\",val)\n",
    "            del self.dictt[val]\n",
    "            return True\n",
    "        \n",
    "        else:\n",
    "            # print(\"not present so not deleted :\",val)\n",
    "            return False\n",
    "        \n",
    "\n",
    "    def getRandom(self):\n",
    "        \"\"\"\n",
    "        :rtype: int\n",
    "        \"\"\"\n",
    "        return random.choice(self.dictt.values())\n",
    "        \n",
    "    \n",
    "\n",
    "# Your RandomizedSet object will be instantiated and called as such:\n",
    "# obj = RandomizedSet()\n",
    "# param_1 = obj.insert(val)\n",
    "# param_2 = obj.remove(val)\n",
    "# param_3 = obj.getRandom()"
   ]
  },
  {
   "cell_type": "code",
   "execution_count": null,
   "metadata": {},
   "outputs": [],
   "source": [
    "# jan 15\n",
    "\n",
    "# find winners\n",
    "\n",
    "matches=[[1,3],[2,3],[3,6],[5,6],[5,7],[4,5],[4,8],[4,9],[10,4],[10,9]]\n",
    "\n",
    "losses={}\n",
    "a1=[]\n",
    "a2=[]\n",
    "\n",
    "for match in matches:\n",
    "    l=match[1]\n",
    "    w=match[0]\n",
    "\n",
    "    if l not in losses:\n",
    "        losses[l]=1\n",
    "    \n",
    "    else:\n",
    "        losses[l]+=1\n",
    "\n",
    "    if w not in losses:\n",
    "        losses[w]=0\n",
    "\n",
    "    # if l in \n",
    "\n",
    "for lc in losses:\n",
    "    if losses[lc]==1:\n",
    "        a2.append(lc)\n",
    "    elif losses[lc]==0:\n",
    "        a1.append(lc)\n",
    "\n",
    "# ans=[]\n",
    "a1.sort()\n",
    "a2.sort()\n",
    "\n",
    "print([a1,a2])      \n",
    "\n",
    "        "
   ]
  },
  {
   "cell_type": "code",
   "execution_count": 1,
   "metadata": {},
   "outputs": [
    {
     "name": "stdout",
     "output_type": "stream",
     "text": [
      "[1, 1, 1, 2, 2, 3, 4, 4]\n",
      "4\n"
     ]
    }
   ],
   "source": [
    "#jan 5\n",
    "\n",
    "#longest increasing subsequence\n",
    "\n",
    "nums=[10,9,2,5,3,7,101,18]       \n",
    "dp=[1]*len(nums)\n",
    "\n",
    "for i in range(1,len(nums)):\n",
    "    for j in range(i):\n",
    "        if nums[i]>nums[j]:\n",
    "            dp[i]=max(dp[i],dp[j]+1)\n",
    "\n",
    "print(dp)\n",
    "print(max(dp))\n",
    "# return max(dp)\n",
    "\n",
    "# this approach has tc = O(n^2)\n",
    "\n",
    "#binary search approach has O(n*log(n)) tc"
   ]
  },
  {
   "cell_type": "code",
   "execution_count": null,
   "metadata": {},
   "outputs": [],
   "source": [
    "# jan 4"
   ]
  },
  {
   "cell_type": "code",
   "execution_count": null,
   "metadata": {},
   "outputs": [],
   "source": [
    "#jan 3\n",
    "\n",
    "bank=[\"011001\",\"000000\",\"010100\",\"001000\"]\n",
    "\n",
    "# if len(bank)==0:\n",
    "#     return 0\n",
    "\n",
    "# calculate sum for each row\n",
    "lasers_per_floor=[]\n",
    "for floor in bank:\n",
    "    # floor is a binary string\n",
    "    bits=[int(i) for i in floor]\n",
    "    if sum(bits)>0:\n",
    "        lasers_per_floor.append(sum(bits))\n",
    "            \n",
    "#iterate through the sum and get consecutive prodcuts\n",
    "pos=0\n",
    "for i,j in zip(lasers_per_floor,lasers_per_floor[1:]):\n",
    "    pos+=i*j\n",
    "\n",
    "pos\n",
    "\n",
    "\n",
    "# smaller code but no stat improved:\n",
    "\n",
    "bitsum=0\n",
    "last=0\n",
    "for floor in bank:\n",
    "    # floor is a binary string\n",
    "    bits=sum([int(i) for i in floor])\n",
    "\n",
    "    if bits>0:\n",
    "        bitsum+=bits*last\n",
    "        last=bits\n"
   ]
  },
  {
   "cell_type": "code",
   "execution_count": 26,
   "metadata": {},
   "outputs": [
    {
     "name": "stdout",
     "output_type": "stream",
     "text": [
      "row:[1], 3\n",
      "row:[1, 3], 4\n",
      "row:[1, 3, 4], 1\n",
      "already exists\n",
      "row:[1, 3, 4], 2\n",
      "row:[1, 3, 4, 2], 3\n",
      "already exists\n",
      "row:[1], 3\n",
      "row:[1, 3, 4, 2], 1\n",
      "already exists\n",
      "row:[1, 3], 1\n",
      "already exists\n"
     ]
    },
    {
     "data": {
      "text/plain": [
       "[[1, 3, 4, 2], [1, 3], [1]]"
      ]
     },
     "execution_count": 26,
     "metadata": {},
     "output_type": "execute_result"
    }
   ],
   "source": [
    "#jan 2\n",
    "\n",
    "nums=[1,3,4,1,2,3,1]\n",
    "\n",
    "op_list=[]\n",
    "\n",
    "for idx in range(len(nums)):\n",
    "    flag=0\n",
    "    if len(op_list)==0: #first entry\n",
    "        op_list.append([int(nums[idx])])\n",
    "        continue\n",
    "\n",
    "    else:\n",
    "        #traverse through each creted list to see if it exists already\n",
    "        for row in op_list:\n",
    "            print(f\"row:{row}, {nums[idx]}\")\n",
    "            if int(nums[idx]) in row:\n",
    "                print(\"already exists\")\n",
    "                pass\n",
    "            else:\n",
    "                row.append(nums[idx])\n",
    "                flag=1\n",
    "                break\n",
    "        if flag==0: #insert a new row\n",
    "            op_list.append([nums[idx]])\n",
    "\n",
    "op_list\n"
   ]
  },
  {
   "cell_type": "code",
   "execution_count": null,
   "metadata": {},
   "outputs": [],
   "source": [
    "# jan 1\n",
    "# done"
   ]
  }
 ],
 "metadata": {
  "kernelspec": {
   "display_name": "Python 3",
   "language": "python",
   "name": "python3"
  },
  "language_info": {
   "codemirror_mode": {
    "name": "ipython",
    "version": 3
   },
   "file_extension": ".py",
   "mimetype": "text/x-python",
   "name": "python",
   "nbconvert_exporter": "python",
   "pygments_lexer": "ipython3",
   "version": "3.8.10"
  }
 },
 "nbformat": 4,
 "nbformat_minor": 2
}
