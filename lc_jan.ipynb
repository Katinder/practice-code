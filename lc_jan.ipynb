{
 "cells": [
  {
   "cell_type": "code",
   "execution_count": null,
   "metadata": {},
   "outputs": [],
   "source": [
    "#jan 3\n",
    "\n",
    "bank=[\"011001\",\"000000\",\"010100\",\"001000\"]\n",
    "\n",
    "# if len(bank)==0:\n",
    "#     return 0\n",
    "\n",
    "# calculate sum for each row\n",
    "lasers_per_floor=[]\n",
    "for floor in bank:\n",
    "    # floor is a binary string\n",
    "    bits=[int(i) for i in floor]\n",
    "    if sum(bits)>0:\n",
    "        lasers_per_floor.append(sum(bits))\n",
    "            \n",
    "#iterate through the sum and get consecutive prodcuts\n",
    "pos=0\n",
    "for i,j in zip(lasers_per_floor,lasers_per_floor[1:]):\n",
    "    pos+=i*j\n",
    "\n",
    "pos\n",
    "\n",
    "\n",
    "# smaller code but no stat improved:\n",
    "\n",
    "bitsum=0\n",
    "last=0\n",
    "for floor in bank:\n",
    "    # floor is a binary string\n",
    "    bits=sum([int(i) for i in floor])\n",
    "\n",
    "    if bits>0:\n",
    "        bitsum+=bits*last\n",
    "        last=bits\n"
   ]
  },
  {
   "cell_type": "code",
   "execution_count": 26,
   "metadata": {},
   "outputs": [
    {
     "name": "stdout",
     "output_type": "stream",
     "text": [
      "row:[1], 3\n",
      "row:[1, 3], 4\n",
      "row:[1, 3, 4], 1\n",
      "already exists\n",
      "row:[1, 3, 4], 2\n",
      "row:[1, 3, 4, 2], 3\n",
      "already exists\n",
      "row:[1], 3\n",
      "row:[1, 3, 4, 2], 1\n",
      "already exists\n",
      "row:[1, 3], 1\n",
      "already exists\n"
     ]
    },
    {
     "data": {
      "text/plain": [
       "[[1, 3, 4, 2], [1, 3], [1]]"
      ]
     },
     "execution_count": 26,
     "metadata": {},
     "output_type": "execute_result"
    }
   ],
   "source": [
    "#jan 2\n",
    "\n",
    "nums=[1,3,4,1,2,3,1]\n",
    "\n",
    "op_list=[]\n",
    "\n",
    "for idx in range(len(nums)):\n",
    "    flag=0\n",
    "    if len(op_list)==0: #first entry\n",
    "        op_list.append([int(nums[idx])])\n",
    "        continue\n",
    "\n",
    "    else:\n",
    "        #traverse through each creted list to see if it exists already\n",
    "        for row in op_list:\n",
    "            print(f\"row:{row}, {nums[idx]}\")\n",
    "            if int(nums[idx]) in row:\n",
    "                print(\"already exists\")\n",
    "                pass\n",
    "            else:\n",
    "                row.append(nums[idx])\n",
    "                flag=1\n",
    "                break\n",
    "        if flag==0: #insert a new row\n",
    "            op_list.append([nums[idx]])\n",
    "\n",
    "op_list\n"
   ]
  },
  {
   "cell_type": "code",
   "execution_count": null,
   "metadata": {},
   "outputs": [],
   "source": [
    "# jan 1\n",
    "# done"
   ]
  }
 ],
 "metadata": {
  "kernelspec": {
   "display_name": "Python 3",
   "language": "python",
   "name": "python3"
  },
  "language_info": {
   "codemirror_mode": {
    "name": "ipython",
    "version": 3
   },
   "file_extension": ".py",
   "mimetype": "text/x-python",
   "name": "python",
   "nbconvert_exporter": "python",
   "pygments_lexer": "ipython3",
   "version": "3.8.10"
  }
 },
 "nbformat": 4,
 "nbformat_minor": 2
}
